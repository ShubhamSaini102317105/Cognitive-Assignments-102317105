{
  "nbformat": 4,
  "nbformat_minor": 0,
  "metadata": {
    "colab": {
      "provenance": [],
      "include_colab_link": true
    },
    "kernelspec": {
      "name": "python3",
      "display_name": "Python 3"
    },
    "language_info": {
      "name": "python"
    }
  },
  "cells": [
    {
      "cell_type": "markdown",
      "metadata": {
        "id": "view-in-github",
        "colab_type": "text"
      },
      "source": [
        "<a href=\"https://colab.research.google.com/github/ShubhamSaini102317105/Cognitive-Assignments-102317105/blob/main/Cognitive_Computing_Assignment1.ipynb\" target=\"_parent\"><img src=\"https://colab.research.google.com/assets/colab-badge.svg\" alt=\"Open In Colab\"/></a>"
      ]
    },
    {
      "cell_type": "code",
      "execution_count": null,
      "metadata": {
        "id": "91yaZLC05qzF"
      },
      "outputs": [],
      "source": []
    },
    {
      "cell_type": "markdown",
      "source": [],
      "metadata": {
        "id": "nWHkGONn5uVU"
      }
    },
    {
      "cell_type": "markdown",
      "source": [
        "Assignment 1.1"
      ],
      "metadata": {
        "id": "jd1wrw0k6W7a"
      }
    },
    {
      "cell_type": "code",
      "source": [
        "for _ in range(0,3):\n",
        "    print(\"SHUBHAM SAINI\")"
      ],
      "metadata": {
        "colab": {
          "base_uri": "https://localhost:8080/"
        },
        "id": "njloln9N6Z_t",
        "outputId": "0123fe15-fe3d-4adc-c097-bb8bf1ccb7b7"
      },
      "execution_count": 2,
      "outputs": [
        {
          "output_type": "stream",
          "name": "stdout",
          "text": [
            "SHUBHAM SAINI\n",
            "SHUBHAM SAINI\n",
            "SHUBHAM SAINI\n"
          ]
        }
      ]
    },
    {
      "cell_type": "markdown",
      "source": [
        "Assignment 2.1"
      ],
      "metadata": {
        "id": "EfQMUczD6etz"
      }
    },
    {
      "cell_type": "code",
      "source": [
        "a=125\n",
        "b=350\n",
        "c=890\n",
        "d=a+b+c\n",
        "print(a,\"+\", b, \"+\", c, \"-->\", d)"
      ],
      "metadata": {
        "colab": {
          "base_uri": "https://localhost:8080/"
        },
        "id": "DM_U1Xw06ie3",
        "outputId": "1288a436-818a-4a53-94ef-99a66abbecf4"
      },
      "execution_count": 3,
      "outputs": [
        {
          "output_type": "stream",
          "name": "stdout",
          "text": [
            "125 + 350 + 890 --> 1365\n"
          ]
        }
      ]
    },
    {
      "cell_type": "markdown",
      "source": [
        "Assignment 2.2"
      ],
      "metadata": {
        "id": "r40IntMS6oWS"
      }
    },
    {
      "cell_type": "code",
      "source": [
        "a=\"Mr.\"\n",
        "b=\"Shubham\"\n",
        "c=\"Saini\"\n",
        "d=a+b+c\n",
        "print(a,\"+\", b, \"+\", c, \"-->\", d)"
      ],
      "metadata": {
        "colab": {
          "base_uri": "https://localhost:8080/"
        },
        "id": "iX0m7SjQ6qRb",
        "outputId": "c1a531b8-3d3a-419e-c303-c330b0c4dd1f"
      },
      "execution_count": 4,
      "outputs": [
        {
          "output_type": "stream",
          "name": "stdout",
          "text": [
            "Mr. + Shubham + Saini --> Mr.ShubhamSaini\n"
          ]
        }
      ]
    },
    {
      "cell_type": "markdown",
      "source": [
        "Assignment 4.1"
      ],
      "metadata": {
        "id": "VFkqOAFf6v9g"
      }
    },
    {
      "cell_type": "code",
      "source": [
        "for i in range(1,11):\n",
        "  print(7,\"*\", i, \"=\",7*i)\n",
        "\n",
        "print(\"\\n\")\n",
        "\n",
        "for i in range(1,11):\n",
        "  print(9,\"*\", i, \"=\",9*i)\n"
      ],
      "metadata": {
        "colab": {
          "base_uri": "https://localhost:8080/"
        },
        "id": "6fM9avzT7LeH",
        "outputId": "e46c462b-94b6-4264-be91-6989cb075705"
      },
      "execution_count": 5,
      "outputs": [
        {
          "output_type": "stream",
          "name": "stdout",
          "text": [
            "7 * 1 = 7\n",
            "7 * 2 = 14\n",
            "7 * 3 = 21\n",
            "7 * 4 = 28\n",
            "7 * 5 = 35\n",
            "7 * 6 = 42\n",
            "7 * 7 = 49\n",
            "7 * 8 = 56\n",
            "7 * 9 = 63\n",
            "7 * 10 = 70\n",
            "\n",
            "\n",
            "9 * 1 = 9\n",
            "9 * 2 = 18\n",
            "9 * 3 = 27\n",
            "9 * 4 = 36\n",
            "9 * 5 = 45\n",
            "9 * 6 = 54\n",
            "9 * 7 = 63\n",
            "9 * 8 = 72\n",
            "9 * 9 = 81\n",
            "9 * 10 = 90\n"
          ]
        }
      ]
    },
    {
      "cell_type": "markdown",
      "source": [
        "Assignment 4.2"
      ],
      "metadata": {
        "id": "M51pmwJL8vFc"
      }
    },
    {
      "cell_type": "code",
      "source": [
        "n=int(input(\"Enter any number : \"))\n",
        "for i in range(1,11):\n",
        "  print(n,\"*\", i, \"=\",n*i)\n",
        "\n"
      ],
      "metadata": {
        "colab": {
          "base_uri": "https://localhost:8080/"
        },
        "id": "ubmcmwKm8x-U",
        "outputId": "f9fd2d3e-02e3-4b6d-e463-39b3b91a4f2b"
      },
      "execution_count": 6,
      "outputs": [
        {
          "output_type": "stream",
          "name": "stdout",
          "text": [
            "Enter any number : 5\n",
            "5 * 1 = 5\n",
            "5 * 2 = 10\n",
            "5 * 3 = 15\n",
            "5 * 4 = 20\n",
            "5 * 5 = 25\n",
            "5 * 6 = 30\n",
            "5 * 7 = 35\n",
            "5 * 8 = 40\n",
            "5 * 9 = 45\n",
            "5 * 10 = 50\n"
          ]
        }
      ]
    },
    {
      "cell_type": "markdown",
      "source": [
        "Assignment 4.3"
      ],
      "metadata": {
        "id": "7JZZP9Qg9Gfd"
      }
    },
    {
      "cell_type": "code",
      "source": [
        "n=int(input(\"Enter any number : \"))\n",
        "sum=0\n",
        "for i in range(1,n+1):\n",
        "  sum=sum+i\n",
        "print(f\"Sum of n numbers : {sum}\")"
      ],
      "metadata": {
        "colab": {
          "base_uri": "https://localhost:8080/"
        },
        "id": "80IP5Kx-9Jkj",
        "outputId": "17c1a017-78ab-4982-f1a6-853955ee6e10"
      },
      "execution_count": 7,
      "outputs": [
        {
          "output_type": "stream",
          "name": "stdout",
          "text": [
            "Enter any number : 8\n",
            "Sum of n numbers : 36\n"
          ]
        }
      ]
    },
    {
      "cell_type": "markdown",
      "source": [
        "Assignment 5.1"
      ],
      "metadata": {
        "id": "UPZE59L9S19x"
      }
    },
    {
      "cell_type": "code",
      "source": [
        "list=[]\n",
        "print(\"Enter any three number\")\n",
        "for i in range(1,4):\n",
        "  list.append(input())\n",
        "print(f\"Maximum number is {max(list)}\")"
      ],
      "metadata": {
        "colab": {
          "base_uri": "https://localhost:8080/"
        },
        "collapsed": true,
        "id": "Oy86b7Q8S9ai",
        "outputId": "188beb12-b960-45b2-b952-dbe858572e19"
      },
      "execution_count": 9,
      "outputs": [
        {
          "output_type": "stream",
          "name": "stdout",
          "text": [
            "Enter any three number\n",
            "5\n",
            "3\n",
            "8\n",
            "Maximum number is 8\n"
          ]
        }
      ]
    },
    {
      "cell_type": "markdown",
      "source": [
        "Assignment 5.2"
      ],
      "metadata": {
        "id": "ndIYLxRoTxu8"
      }
    },
    {
      "cell_type": "code",
      "source": [
        "n=int(input(\"Enter any number : \"))\n",
        "sum=0;\n",
        "for i in range(1,n+1):\n",
        "  if i%63==0:\n",
        "    sum=sum+i\n",
        "print(f\"Sum of numbers divisible by 7 ans 9: {sum}\")\n"
      ],
      "metadata": {
        "colab": {
          "base_uri": "https://localhost:8080/"
        },
        "id": "owlKNHRST0Db",
        "outputId": "0bf4bca7-7650-40b0-daa1-b1db2b561d2f"
      },
      "execution_count": 10,
      "outputs": [
        {
          "output_type": "stream",
          "name": "stdout",
          "text": [
            "Enter any number : 65\n",
            "Sum of numbers divisible by 7 ans 9: 63\n"
          ]
        }
      ]
    },
    {
      "cell_type": "markdown",
      "source": [
        "Assignment 5.3"
      ],
      "metadata": {
        "id": "DC--_AqGU6O3"
      }
    },
    {
      "cell_type": "code",
      "source": [
        "n=int(input(\"Enter any number : \"))\n",
        "sum=0\n",
        "def isprime(i):\n",
        "  if i==1:\n",
        "    return False\n",
        "  for j in range(2,i):\n",
        "    if i%j==0:\n",
        "      return False\n",
        "  return True\n",
        "\n",
        "for i in range(1,n+1):\n",
        "  if isprime(i):\n",
        "    sum=sum+i\n",
        "\n",
        "print(f\"Sum of prime numbers : {sum}\")"
      ],
      "metadata": {
        "colab": {
          "base_uri": "https://localhost:8080/"
        },
        "id": "OnDRsOHgU9n0",
        "outputId": "3140a923-8112-476f-b640-07e2f1da845f"
      },
      "execution_count": 11,
      "outputs": [
        {
          "output_type": "stream",
          "name": "stdout",
          "text": [
            "Enter any number : 5\n",
            "Sum of prime numbers : 10\n"
          ]
        }
      ]
    },
    {
      "cell_type": "markdown",
      "source": [],
      "metadata": {
        "id": "8gHTXf-FmP9V"
      }
    },
    {
      "cell_type": "markdown",
      "source": [
        "Assignment 6.1"
      ],
      "metadata": {
        "id": "VBrWal0ykJqr"
      }
    },
    {
      "cell_type": "code",
      "source": [
        "n=int(input(\"Enter any number : \"))\n",
        "\n",
        "def oddsum(n):\n",
        "  Sum=0\n",
        "  for i in range(1,n+1):\n",
        "    if i%2!=0:\n",
        "      Sum+=i\n",
        "  return Sum\n",
        "\n",
        "print(f\"Sum of odd numbers: {oddsum(n)}\")"
      ],
      "metadata": {
        "colab": {
          "base_uri": "https://localhost:8080/"
        },
        "id": "sSQHqszckLuL",
        "outputId": "b76d1d83-d3a9-4ec6-9f1d-ea86a62c09f1"
      },
      "execution_count": 12,
      "outputs": [
        {
          "output_type": "stream",
          "name": "stdout",
          "text": [
            "Enter any number : 57\n",
            "Sum of odd numbers: 841\n"
          ]
        }
      ]
    },
    {
      "cell_type": "markdown",
      "source": [],
      "metadata": {
        "id": "EbY4wetF9BpS"
      }
    },
    {
      "cell_type": "markdown",
      "source": [
        "Assignment 6.2"
      ],
      "metadata": {
        "id": "5Gps5UG3mSFc"
      }
    },
    {
      "cell_type": "code",
      "source": [
        "n=int(input(\"Enter any number : \"))\n",
        "sum=0\n",
        "def isprime(i):\n",
        "  if i==1:\n",
        "    return False\n",
        "  for j in range(2,i):\n",
        "    if i%j==0:\n",
        "      return False\n",
        "  return True\n",
        "\n",
        "for i in range(1,n+1):\n",
        "  if isprime(i):\n",
        "    sum=sum+i\n",
        "\n",
        "print(f\"Sum of prime numbers : {sum}\")"
      ],
      "metadata": {
        "colab": {
          "base_uri": "https://localhost:8080/"
        },
        "id": "ZYUUv0zxmYIJ",
        "outputId": "6a72e64d-8fa3-40e3-9708-9660f2a32017"
      },
      "execution_count": 13,
      "outputs": [
        {
          "output_type": "stream",
          "name": "stdout",
          "text": [
            "Enter any number : 11\n",
            "Sum of prime numbers : 28\n"
          ]
        }
      ]
    }
  ]
}