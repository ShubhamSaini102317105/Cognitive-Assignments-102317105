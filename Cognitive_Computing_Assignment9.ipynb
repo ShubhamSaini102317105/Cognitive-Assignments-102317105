{
  "nbformat": 4,
  "nbformat_minor": 0,
  "metadata": {
    "colab": {
      "provenance": []
    },
    "kernelspec": {
      "name": "python3",
      "display_name": "Python 3"
    },
    "language_info": {
      "name": "python"
    }
  },
  "cells": [
    {
      "cell_type": "markdown",
      "metadata": {
        "id": "view-in-github"
      },
      "source": [
        "<a href=\"https://colab.research.google.com/github/akashgoyal-20/Cognitive-Computing-Assignments/blob/main/Cognitive_Computing_Assignment9.ipynb\" target=\"_parent\"><img src=\"https://colab.research.google.com/assets/colab-badge.svg\" alt=\"Open In Colab\"/></a>"
      ]
    },
    {
      "cell_type": "markdown",
      "source": [
        "Ques 1:"
      ],
      "metadata": {
        "id": "6muLeY3AoxLX"
      }
    },
    {
      "cell_type": "code",
      "source": [
        "import nltk\n",
        "from nltk.corpus import stopwords\n",
        "from nltk.tokenize import word_tokenize,sent_tokenize\n",
        "from nltk.probability import FreqDist\n",
        "import string\n",
        "\n",
        "nltk.download('punkt')\n",
        "nltk.download('stopwords');\n",
        "nltk.download('punkt_tab')\n",
        "\n",
        "paragraph = \"\"\"Data structures and algorithms are fundamental to computer science and software engineering, enabling efficient data organization and problem-solving.\n",
        "They are essential for writing optimized code, improving problem-solving skills, and understanding how software systems work.\n",
        "They also play a crucial role in various fields like machine learning and deep learning.\"\"\"\n",
        "\n",
        "clean_paragraph=paragraph.lower()\n",
        "clean_paragraph=clean_paragraph.translate(str.maketrans('','',string.punctuation))\n",
        "\n",
        "print(clean_paragraph)\n",
        "sentence=sent_tokenize(paragraph)\n",
        "words=word_tokenize(paragraph)\n",
        "\n",
        "print(sentence)\n",
        "print(words)\n",
        "\n",
        "stop_words=set(stopwords.words('english'))\n",
        "filtered_words=[word for word in words if word not in stop_words]\n",
        "\n",
        "print(filtered_words)\n",
        "freq_dist = FreqDist(filtered_words)\n",
        "for word, freq in freq_dist.items():\n",
        "    print(f\"{word}: {freq}\")"
      ],
      "metadata": {
        "colab": {
          "base_uri": "https://localhost:8080/"
        },
        "id": "Rbpx7OGMoy6v",
        "outputId": "473ff6f4-1e4f-423c-c0bc-6398434c20ea"
      },
      "execution_count": 1,
      "outputs": [
        {
          "output_type": "stream",
          "name": "stderr",
          "text": [
            "[nltk_data] Downloading package punkt to /root/nltk_data...\n",
            "[nltk_data]   Unzipping tokenizers/punkt.zip.\n",
            "[nltk_data] Downloading package stopwords to /root/nltk_data...\n",
            "[nltk_data]   Unzipping corpora/stopwords.zip.\n",
            "[nltk_data] Downloading package punkt_tab to /root/nltk_data...\n",
            "[nltk_data]   Unzipping tokenizers/punkt_tab.zip.\n"
          ]
        },
        {
          "output_type": "stream",
          "name": "stdout",
          "text": [
            "data structures and algorithms are fundamental to computer science and software engineering enabling efficient data organization and problemsolving \n",
            "they are essential for writing optimized code improving problemsolving skills and understanding how software systems work \n",
            "they also play a crucial role in various fields like machine learning and deep learning\n",
            "['Data structures and algorithms are fundamental to computer science and software engineering, enabling efficient data organization and problem-solving.', 'They are essential for writing optimized code, improving problem-solving skills, and understanding how software systems work.', 'They also play a crucial role in various fields like machine learning and deep learning.']\n",
            "['Data', 'structures', 'and', 'algorithms', 'are', 'fundamental', 'to', 'computer', 'science', 'and', 'software', 'engineering', ',', 'enabling', 'efficient', 'data', 'organization', 'and', 'problem-solving', '.', 'They', 'are', 'essential', 'for', 'writing', 'optimized', 'code', ',', 'improving', 'problem-solving', 'skills', ',', 'and', 'understanding', 'how', 'software', 'systems', 'work', '.', 'They', 'also', 'play', 'a', 'crucial', 'role', 'in', 'various', 'fields', 'like', 'machine', 'learning', 'and', 'deep', 'learning', '.']\n",
            "['Data', 'structures', 'algorithms', 'fundamental', 'computer', 'science', 'software', 'engineering', ',', 'enabling', 'efficient', 'data', 'organization', 'problem-solving', '.', 'They', 'essential', 'writing', 'optimized', 'code', ',', 'improving', 'problem-solving', 'skills', ',', 'understanding', 'software', 'systems', 'work', '.', 'They', 'also', 'play', 'crucial', 'role', 'various', 'fields', 'like', 'machine', 'learning', 'deep', 'learning', '.']\n",
            "Data: 1\n",
            "structures: 1\n",
            "algorithms: 1\n",
            "fundamental: 1\n",
            "computer: 1\n",
            "science: 1\n",
            "software: 2\n",
            "engineering: 1\n",
            ",: 3\n",
            "enabling: 1\n",
            "efficient: 1\n",
            "data: 1\n",
            "organization: 1\n",
            "problem-solving: 2\n",
            ".: 3\n",
            "They: 2\n",
            "essential: 1\n",
            "writing: 1\n",
            "optimized: 1\n",
            "code: 1\n",
            "improving: 1\n",
            "skills: 1\n",
            "understanding: 1\n",
            "systems: 1\n",
            "work: 1\n",
            "also: 1\n",
            "play: 1\n",
            "crucial: 1\n",
            "role: 1\n",
            "various: 1\n",
            "fields: 1\n",
            "like: 1\n",
            "machine: 1\n",
            "learning: 2\n",
            "deep: 1\n"
          ]
        }
      ]
    },
    {
      "cell_type": "markdown",
      "source": [
        "Ques 2:"
      ],
      "metadata": {
        "id": "i13HqCde8rOZ"
      }
    },
    {
      "cell_type": "code",
      "source": [
        "import nltk\n",
        "import string\n",
        "from nltk.corpus import stopwords\n",
        "from nltk.tokenize import word_tokenize\n",
        "from nltk.stem import PorterStemmer, LancasterStemmer, WordNetLemmatizer\n",
        "\n",
        "nltk.download('punkt')\n",
        "nltk.download('stopwords')\n",
        "nltk.download('wordnet')\n",
        "\n",
        "text = \"\"\"Data structures and algorithms are fundamental to computer science and software engineering, enabling efficient data organization and problem-solving.\n",
        "They are essential for writing optimized code, improving problem-solving skills, and understanding how software systems work.\n",
        "They also play a crucial role in various fields like machine learning and deep learning.\"\"\"\n",
        "\n",
        "# Preprocessing: lowercase and remove punctuation\n",
        "lower_text = text.lower()\n",
        "cleaned = lower_text.translate(str.maketrans('', '', string.punctuation))\n",
        "\n",
        "# Tokenization and stopword filtering\n",
        "tokens = word_tokenize(cleaned)\n",
        "stop_words = set(stopwords.words('english'))\n",
        "meaningful = [word for word in tokens if word not in stop_words]\n",
        "\n",
        "# Initialize stemmers\n",
        "porter = PorterStemmer()\n",
        "lancaster = LancasterStemmer()\n",
        "\n",
        "# Show stemming results\n",
        "print(\"Stemming Results:\\n\")\n",
        "for w in meaningful:\n",
        "    port_stem = porter.stem(w)\n",
        "    lanc_stem = lancaster.stem(w)\n",
        "    print(f\"{w} -> Porter: {port_stem}, Lancaster: {lanc_stem}\")\n",
        "\n",
        "# Lemmatization\n",
        "print(\"\\nLemmatization Results:\\n\")\n",
        "lemmatizer = WordNetLemmatizer()\n",
        "for w in meaningful:\n",
        "    lemma = lemmatizer.lemmatize(w)\n",
        "    print(f\"{w} -> Lemma: {lemma}\")\n"
      ],
      "metadata": {
        "colab": {
          "base_uri": "https://localhost:8080/"
        },
        "id": "w8w_iMM78sst",
        "outputId": "e278d861-c57e-4e6b-841b-95c98f165851"
      },
      "execution_count": 2,
      "outputs": [
        {
          "output_type": "stream",
          "name": "stderr",
          "text": [
            "[nltk_data] Downloading package punkt to /root/nltk_data...\n",
            "[nltk_data]   Package punkt is already up-to-date!\n",
            "[nltk_data] Downloading package stopwords to /root/nltk_data...\n",
            "[nltk_data]   Package stopwords is already up-to-date!\n",
            "[nltk_data] Downloading package wordnet to /root/nltk_data...\n"
          ]
        },
        {
          "output_type": "stream",
          "name": "stdout",
          "text": [
            "Stemming Results:\n",
            "\n",
            "data -> Porter: data, Lancaster: dat\n",
            "structures -> Porter: structur, Lancaster: structures\n",
            "algorithms -> Porter: algorithm, Lancaster: algorithm\n",
            "fundamental -> Porter: fundament, Lancaster: funda\n",
            "computer -> Porter: comput, Lancaster: comput\n",
            "science -> Porter: scienc, Lancaster: sci\n",
            "software -> Porter: softwar, Lancaster: softw\n",
            "engineering -> Porter: engin, Lancaster: engin\n",
            "enabling -> Porter: enabl, Lancaster: en\n",
            "efficient -> Porter: effici, Lancaster: efficy\n",
            "data -> Porter: data, Lancaster: dat\n",
            "organization -> Porter: organ, Lancaster: org\n",
            "problemsolving -> Porter: problemsolv, Lancaster: problemsolv\n",
            "essential -> Porter: essenti, Lancaster: ess\n",
            "writing -> Porter: write, Lancaster: writ\n",
            "optimized -> Porter: optim, Lancaster: optim\n",
            "code -> Porter: code, Lancaster: cod\n",
            "improving -> Porter: improv, Lancaster: improv\n",
            "problemsolving -> Porter: problemsolv, Lancaster: problemsolv\n",
            "skills -> Porter: skill, Lancaster: skil\n",
            "understanding -> Porter: understand, Lancaster: understand\n",
            "software -> Porter: softwar, Lancaster: softw\n",
            "systems -> Porter: system, Lancaster: system\n",
            "work -> Porter: work, Lancaster: work\n",
            "also -> Porter: also, Lancaster: also\n",
            "play -> Porter: play, Lancaster: play\n",
            "crucial -> Porter: crucial, Lancaster: cruc\n",
            "role -> Porter: role, Lancaster: rol\n",
            "various -> Porter: variou, Lancaster: vary\n",
            "fields -> Porter: field, Lancaster: field\n",
            "like -> Porter: like, Lancaster: lik\n",
            "machine -> Porter: machin, Lancaster: machin\n",
            "learning -> Porter: learn, Lancaster: learn\n",
            "deep -> Porter: deep, Lancaster: deep\n",
            "learning -> Porter: learn, Lancaster: learn\n",
            "\n",
            "Lemmatization Results:\n",
            "\n",
            "data -> Lemma: data\n",
            "structures -> Lemma: structure\n",
            "algorithms -> Lemma: algorithm\n",
            "fundamental -> Lemma: fundamental\n",
            "computer -> Lemma: computer\n",
            "science -> Lemma: science\n",
            "software -> Lemma: software\n",
            "engineering -> Lemma: engineering\n",
            "enabling -> Lemma: enabling\n",
            "efficient -> Lemma: efficient\n",
            "data -> Lemma: data\n",
            "organization -> Lemma: organization\n",
            "problemsolving -> Lemma: problemsolving\n",
            "essential -> Lemma: essential\n",
            "writing -> Lemma: writing\n",
            "optimized -> Lemma: optimized\n",
            "code -> Lemma: code\n",
            "improving -> Lemma: improving\n",
            "problemsolving -> Lemma: problemsolving\n",
            "skills -> Lemma: skill\n",
            "understanding -> Lemma: understanding\n",
            "software -> Lemma: software\n",
            "systems -> Lemma: system\n",
            "work -> Lemma: work\n",
            "also -> Lemma: also\n",
            "play -> Lemma: play\n",
            "crucial -> Lemma: crucial\n",
            "role -> Lemma: role\n",
            "various -> Lemma: various\n",
            "fields -> Lemma: field\n",
            "like -> Lemma: like\n",
            "machine -> Lemma: machine\n",
            "learning -> Lemma: learning\n",
            "deep -> Lemma: deep\n",
            "learning -> Lemma: learning\n"
          ]
        }
      ]
    },
    {
      "cell_type": "markdown",
      "source": [
        "Ques 3:"
      ],
      "metadata": {
        "id": "CodAHfIC9HU2"
      }
    },
    {
      "cell_type": "code",
      "source": [
        "import re\n",
        "\n",
        "text = \"\"\"Data structures and algorithms are fundamental to computer science and software engineering, enabling efficient data organization and problem-solving.\n",
        "They are essential for writing optimized code, improving problem-solving skills, and understanding how software systems work.\n",
        "They also play a crucial role in various fields like machine learning and deep learning.\"\"\"\n",
        "\n",
        "\n",
        "long_words = re.findall(r'\\b[a-zA-Z]{6,}\\b', text)\n",
        "print(\"Words longer than 5 letters:\")\n",
        "print(long_words)\n",
        "\n",
        "\n",
        "digits = re.findall(r'\\b\\d+\\b', text)\n",
        "print(\"\\nNumbers found:\")\n",
        "print(digits)\n",
        "\n",
        "\n",
        "capital_words = re.findall(r'\\b[A-Z][a-zA-Z]*\\b', text)\n",
        "print(\"\\nCapitalized words:\")\n",
        "print(capital_words)\n",
        "\n",
        "\n",
        "all_words = re.findall(r'\\b[a-zA-Z]+\\b', text)\n",
        "print(\"\\nAll words:\")\n",
        "print(all_words)\n",
        "\n",
        "\n",
        "vowel_start = [w for w in all_words if re.match(r'^[aeiouAEIOU]', w)]\n",
        "print(\"\\nWords starting with a vowel:\")\n",
        "print(vowel_start)\n"
      ],
      "metadata": {
        "colab": {
          "base_uri": "https://localhost:8080/"
        },
        "id": "sEUockAZ9Is4",
        "outputId": "2d8d6ba1-db12-41dd-aeaa-3a7d2b5148af"
      },
      "execution_count": 3,
      "outputs": [
        {
          "output_type": "stream",
          "name": "stdout",
          "text": [
            "Words longer than 5 letters:\n",
            "['structures', 'algorithms', 'fundamental', 'computer', 'science', 'software', 'engineering', 'enabling', 'efficient', 'organization', 'problem', 'solving', 'essential', 'writing', 'optimized', 'improving', 'problem', 'solving', 'skills', 'understanding', 'software', 'systems', 'crucial', 'various', 'fields', 'machine', 'learning', 'learning']\n",
            "\n",
            "Numbers found:\n",
            "[]\n",
            "\n",
            "Capitalized words:\n",
            "['Data', 'They', 'They']\n",
            "\n",
            "All words:\n",
            "['Data', 'structures', 'and', 'algorithms', 'are', 'fundamental', 'to', 'computer', 'science', 'and', 'software', 'engineering', 'enabling', 'efficient', 'data', 'organization', 'and', 'problem', 'solving', 'They', 'are', 'essential', 'for', 'writing', 'optimized', 'code', 'improving', 'problem', 'solving', 'skills', 'and', 'understanding', 'how', 'software', 'systems', 'work', 'They', 'also', 'play', 'a', 'crucial', 'role', 'in', 'various', 'fields', 'like', 'machine', 'learning', 'and', 'deep', 'learning']\n",
            "\n",
            "Words starting with a vowel:\n",
            "['and', 'algorithms', 'are', 'and', 'engineering', 'enabling', 'efficient', 'organization', 'and', 'are', 'essential', 'optimized', 'improving', 'and', 'understanding', 'also', 'a', 'in', 'and']\n"
          ]
        }
      ]
    },
    {
      "cell_type": "markdown",
      "source": [
        "Ques 4:"
      ],
      "metadata": {
        "id": "PF06IdTl90pt"
      }
    },
    {
      "cell_type": "code",
      "source": [
        "import re\n",
        "\n",
        "content = \"\"\"Data structures and algorithms are fundamental to computer science and software engineering, enabling efficient data organization and problem-solving.\n",
        "They are essential for writing optimized code, improving problem-solving skills, and understanding how software systems work.\n",
        "They also play a crucial role in various fields like machine learning and deep learning.\"\"\"\n",
        "\n",
        "def tokenize_text(text):\n",
        "    cleaned = re.sub(r\"[^\\w\\s'-]\", '', text)\n",
        "    cleaned = re.sub(r'(\\w+)-(\\w+)', r'\\1', cleaned)\n",
        "    cleaned = re.sub(r'(\\d+\\.\\d+|\\d+)', r'\\1', cleaned)\n",
        "    return cleaned.split()\n",
        "\n",
        "tokens = tokenize_text(content)\n",
        "print(\"Custom Tokens:\\n\", tokens)\n",
        "\n",
        "sensitive_data = \"\"\"\n",
        "You can reach me at abc@gmail.com or visit https://www.example.com for more details.\n",
        "My phone number is 123-456-7890 or you can contact me via +91 9876543210.\n",
        "\"\"\"\n",
        "\n",
        "def anonymize(text):\n",
        "    text = re.sub(r'[a-zA-Z0-9._%+-]+@[a-zA-Z0-9.-]+\\.[a-zA-Z]{2,}', '', text)\n",
        "    text = re.sub(r'https?://\\S+', '', text)\n",
        "    text = re.sub(r'(\\+?\\d{1,3}[\\s-]?\\d{3}[\\s-]?\\d{4,})', '', text)\n",
        "    return text\n",
        "\n",
        "clean_version = anonymize(sensitive_data)\n",
        "print(\"\\nSanitized Text:\\n\", clean_version)\n"
      ],
      "metadata": {
        "colab": {
          "base_uri": "https://localhost:8080/"
        },
        "id": "Ah38jeg_913t",
        "outputId": "ee14a38a-2b4c-4170-c0c9-588d73a5b0ec"
      },
      "execution_count": 4,
      "outputs": [
        {
          "output_type": "stream",
          "name": "stdout",
          "text": [
            "Custom Tokens:\n",
            " ['Data', 'structures', 'and', 'algorithms', 'are', 'fundamental', 'to', 'computer', 'science', 'and', 'software', 'engineering', 'enabling', 'efficient', 'data', 'organization', 'and', 'problem', 'They', 'are', 'essential', 'for', 'writing', 'optimized', 'code', 'improving', 'problem', 'skills', 'and', 'understanding', 'how', 'software', 'systems', 'work', 'They', 'also', 'play', 'a', 'crucial', 'role', 'in', 'various', 'fields', 'like', 'machine', 'learning', 'and', 'deep', 'learning']\n",
            "\n",
            "Sanitized Text:\n",
            " \n",
            "You can reach me at  or visit  for more details.\n",
            "My phone number is  or you can contact me via .\n",
            "\n"
          ]
        }
      ]
    }
  ]
}