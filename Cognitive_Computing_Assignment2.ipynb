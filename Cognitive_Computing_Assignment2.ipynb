{
  "nbformat": 4,
  "nbformat_minor": 0,
  "metadata": {
    "colab": {
      "provenance": []
    },
    "kernelspec": {
      "name": "python3",
      "display_name": "Python 3"
    },
    "language_info": {
      "name": "python"
    }
  },
  "cells": [
    {
      "cell_type": "markdown",
      "source": [
        "Ques 1:"
      ],
      "metadata": {
        "id": "07yJ54wRL-cb"
      }
    },
    {
      "cell_type": "code",
      "source": [
        "L=[10,20,30,40,50,60,70,80]\n",
        "\n",
        "#i.\n",
        "L.extend([200,300])\n",
        "print(L)\n",
        "\n",
        "#ii.\n",
        "L.remove(10)\n",
        "L.remove(30)\n",
        "print(L)\n",
        "\n",
        "#iii.\n",
        "L.sort()\n",
        "print(L)\n",
        "\n",
        "#iv.\n",
        "L.sort(reverse=True)\n",
        "print(L)"
      ],
      "metadata": {
        "colab": {
          "base_uri": "https://localhost:8080/"
        },
        "id": "FlwnU5UnMDmo",
        "outputId": "375b049c-2b3e-46a0-aa4b-418066a60c5e"
      },
      "execution_count": 1,
      "outputs": [
        {
          "output_type": "stream",
          "name": "stdout",
          "text": [
            "[10, 20, 30, 40, 50, 60, 70, 80, 200, 300]\n",
            "[20, 40, 50, 60, 70, 80, 200, 300]\n",
            "[20, 40, 50, 60, 70, 80, 200, 300]\n",
            "[300, 200, 80, 70, 60, 50, 40, 20]\n"
          ]
        }
      ]
    },
    {
      "cell_type": "markdown",
      "source": [
        "Ques 2:"
      ],
      "metadata": {
        "id": "NzXAwK33NZ3u"
      }
    },
    {
      "cell_type": "code",
      "source": [
        "scores = (45,89.5,76,45.4,89,92,58,45)\n",
        "\n",
        "#i.\n",
        "max_item=max(scores)\n",
        "max_index=scores.index(max_item)\n",
        "print(f\"Maximum number is {max_item} at index {max_index}\")\n",
        "\n",
        "#ii.\n",
        "lowest_item=min(scores)\n",
        "count_item=scores.count(lowest_item)\n",
        "print(f\"Lowest number is {lowest_item} and it occurs {count_item} times\")\n",
        "\n",
        "#iii.\n",
        "new_list=list(scores[::-1])\n",
        "print(new_list)\n",
        "\n",
        "#iv.\n",
        "input_item=76\n",
        "if input_item in scores:\n",
        "  input_index=scores.index(input_item)\n",
        "  print(f\"Input item is present at index {input_index}\")\n",
        "else:\n",
        "  print(f\"Input item is absent\")"
      ],
      "metadata": {
        "colab": {
          "base_uri": "https://localhost:8080/"
        },
        "id": "Lt5uJO7RNb12",
        "outputId": "ec403e72-864e-4bc8-d736-4b70cd035536"
      },
      "execution_count": 2,
      "outputs": [
        {
          "output_type": "stream",
          "name": "stdout",
          "text": [
            "Maximum number is 92 at index 5\n",
            "Lowest number is 45 and it occurs 2 times\n",
            "[45, 58, 92, 89, 45.4, 76, 89.5, 45]\n",
            "Input item is present at index 2\n"
          ]
        }
      ]
    },
    {
      "cell_type": "markdown",
      "source": [
        "Ques 3:"
      ],
      "metadata": {
        "id": "WPW2JoRIa8m_"
      }
    },
    {
      "cell_type": "code",
      "source": [
        "import random\n",
        "random_number=[]\n",
        "for i in range(0,100):\n",
        "  random_number.append(random.randint(100,900))\n",
        "\n",
        "odd_number=[]\n",
        "count_odd=0\n",
        "count_even=0\n",
        "count_prime=0\n",
        "even_number=[]\n",
        "prime_number=[]\n",
        "\n",
        "\n",
        "for i in random_number:\n",
        "  if i%2==0:\n",
        "    even_number.append(i)\n",
        "    count_even=count_even+1\n",
        "  else:\n",
        "    odd_number.append(i)\n",
        "    count_odd=count_odd+1\n",
        "\n",
        "#i.\n",
        "print(f\"Even numbers are :{even_number}\")\n",
        "print(f\"Number of even number :{count_even}\")\n",
        "\n",
        "#ii.\n",
        "print(f\"Odd numbers are :{odd_number}\")\n",
        "print(f\"Number of odd number :{count_odd}\")\n",
        "\n",
        "#iii.\n",
        "def isprime(i):\n",
        "  if i==1 or i==2:\n",
        "    return False\n",
        "  for j in range(2,i):\n",
        "    if i%j==0:\n",
        "      return False\n",
        "  return True\n",
        "\n",
        "for i in random_number:\n",
        "  if isprime(i):\n",
        "    prime_number.append(i)\n",
        "    count_prime=count_prime+1\n",
        "\n",
        "print(f\"prime numbers are :{prime_number}\")\n",
        "print(f\"Number of prime number :{count_prime}\")\n"
      ],
      "metadata": {
        "colab": {
          "base_uri": "https://localhost:8080/"
        },
        "id": "weVQLDhURbff",
        "outputId": "687846a2-11e7-44d5-f8d8-81352003a6bc"
      },
      "execution_count": 3,
      "outputs": [
        {
          "output_type": "stream",
          "name": "stdout",
          "text": [
            "Even numbers are :[408, 476, 360, 568, 328, 224, 802, 422, 240, 114, 454, 486, 558, 850, 694, 754, 474, 524, 578, 152, 720, 272, 110, 510, 112, 126, 178, 498, 648, 304, 550, 628, 504, 546, 658, 598, 472, 398, 844, 532, 796, 356, 472, 452, 242, 770, 708, 858]\n",
            "Number of even number :48\n",
            "Odd numbers are :[369, 459, 347, 465, 207, 607, 771, 723, 161, 581, 135, 781, 183, 309, 551, 265, 263, 727, 339, 491, 441, 589, 283, 607, 297, 497, 741, 273, 505, 265, 447, 201, 723, 203, 577, 465, 185, 109, 217, 833, 129, 849, 475, 121, 331, 389, 507, 877, 145, 181, 401, 859]\n",
            "Number of odd number :52\n",
            "prime numbers are :[347, 607, 263, 727, 491, 283, 607, 577, 109, 331, 389, 877, 181, 401, 859]\n",
            "Number of prime number :15\n"
          ]
        }
      ]
    },
    {
      "cell_type": "markdown",
      "source": [
        "Ques 4:"
      ],
      "metadata": {
        "id": "Z8MEPua2X8aT"
      }
    },
    {
      "cell_type": "code",
      "source": [
        "\n",
        "A = {34, 56, 78, 90}\n",
        "B = {78, 45, 90, 23}\n",
        "\n",
        "# i.\n",
        "union_set = A.union(B)\n",
        "print(f\"Unique scores achieved by both teams: {union_set}\")\n",
        "\n",
        "# ii.\n",
        "intersection_set = A.intersection(B)\n",
        "print(f\"Scores common to both teams: {intersection_set}\")\n",
        "\n",
        "# iii.\n",
        "symmetric_difference_set = A.symmetric_difference(B)\n",
        "print(f\"Scores exclusive to each team: {symmetric_difference_set}\")\n",
        "\n",
        "# iv.\n",
        "is_subset = A.issubset(B)\n",
        "is_superset = B.issuperset(A)\n",
        "print(f\"Team A's scores are a subset of team B: {is_subset}\")\n",
        "print(f\"Team B's scores are a superset of team A: {is_superset}\")\n",
        "\n",
        "# v.\n",
        "X = int(input(\"Enter the score to remove from set A: \"))\n",
        "if X in A:\n",
        "    A.remove(X)\n",
        "    print(f\"Score {X} removed from set A. Updated set A: {A}\")\n",
        "else:\n",
        "    print(f\"Score {X} is not present in set A.\")\n"
      ],
      "metadata": {
        "colab": {
          "base_uri": "https://localhost:8080/"
        },
        "id": "bLQ8wQBsVXr0",
        "outputId": "2caf8359-d88a-4dff-a711-52cd48156110"
      },
      "execution_count": 4,
      "outputs": [
        {
          "output_type": "stream",
          "name": "stdout",
          "text": [
            "Unique scores achieved by both teams: {34, 45, 78, 23, 56, 90}\n",
            "Scores common to both teams: {90, 78}\n",
            "Scores exclusive to each team: {34, 45, 23, 56}\n",
            "Team A's scores are a subset of team B: False\n",
            "Team B's scores are a superset of team A: False\n",
            "Enter the score to remove from set A: 23\n",
            "Score 23 is not present in set A.\n"
          ]
        }
      ]
    },
    {
      "cell_type": "markdown",
      "source": [
        "Ques 5:"
      ],
      "metadata": {
        "id": "z-_IqNcPZQfT"
      }
    },
    {
      "cell_type": "code",
      "source": [
        "sample_dict={\n",
        "    \"name\":\"kelly\",\n",
        "    \"age\":25,\n",
        "    \"salary\":80000,\n",
        "    \"city\":\"New york\"\n",
        "}\n",
        "sample_dict[\"location\"] = sample_dict[\"city\"]\n",
        "del sample_dict[\"city\"]\n",
        "\n",
        "print(sample_dict)"
      ],
      "metadata": {
        "colab": {
          "base_uri": "https://localhost:8080/"
        },
        "id": "sgkmBU1OZUG9",
        "outputId": "e6f49520-e846-4610-b251-2dc5a3ff7863"
      },
      "execution_count": 5,
      "outputs": [
        {
          "output_type": "stream",
          "name": "stdout",
          "text": [
            "{'name': 'kelly', 'age': 25, 'salary': 80000, 'location': 'New york'}\n"
          ]
        }
      ]
    }
  ]
}