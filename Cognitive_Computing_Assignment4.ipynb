{
  "nbformat": 4,
  "nbformat_minor": 0,
  "metadata": {
    "colab": {
      "provenance": []
    },
    "kernelspec": {
      "name": "python3",
      "display_name": "Python 3"
    },
    "language_info": {
      "name": "python"
    }
  },
  "cells": [
    {
      "cell_type": "markdown",
      "source": [
        "Question 1:"
      ],
      "metadata": {
        "id": "-nIPpTOmUtmg"
      }
    },
    {
      "cell_type": "code",
      "source": [
        "import numpy as np\n",
        "a=np.array([2,4,6,8,9])\n",
        "\n",
        "# a.\n",
        "for i in range(0,5):\n",
        "  a[i]=a[i]+2\n",
        "print(a)\n",
        "\n",
        "# b.\n",
        "for i in range(0,5):\n",
        "  a[i]=a[i]*3\n",
        "print(a)\n",
        "\n",
        "# c.\n",
        "for i in range(0,5):\n",
        "  a[i]=a[i]/2\n",
        "print(a)"
      ],
      "metadata": {
        "colab": {
          "base_uri": "https://localhost:8080/"
        },
        "id": "Z9QK4mGJUvl2",
        "outputId": "1aa1f313-bab1-4276-d5e5-84275ece2e99"
      },
      "execution_count": 1,
      "outputs": [
        {
          "output_type": "stream",
          "name": "stdout",
          "text": [
            "[ 4  6  8 10 11]\n",
            "[12 18 24 30 33]\n",
            "[ 6  9 12 15 16]\n"
          ]
        }
      ]
    },
    {
      "cell_type": "markdown",
      "source": [
        "Question 2a:"
      ],
      "metadata": {
        "id": "R_5_9nXSWcdO"
      }
    },
    {
      "cell_type": "code",
      "source": [
        "import numpy as np\n",
        "a=np.array([1,2,3,6,4,5])\n",
        "a=a[::-1]\n",
        "print(a)"
      ],
      "metadata": {
        "colab": {
          "base_uri": "https://localhost:8080/"
        },
        "id": "U5FloXWzWeZn",
        "outputId": "d6406d39-1640-4feb-f64f-8db225891cb1"
      },
      "execution_count": 2,
      "outputs": [
        {
          "output_type": "stream",
          "name": "stdout",
          "text": [
            "[5 4 6 3 2 1]\n"
          ]
        }
      ]
    },
    {
      "cell_type": "markdown",
      "source": [
        "Question 2b:"
      ],
      "metadata": {
        "id": "e8iTgvxEXGr2"
      }
    },
    {
      "cell_type": "code",
      "source": [
        "import numpy as np\n",
        "\n",
        "occurence=[]\n",
        "\n",
        "# i.\n",
        "x=np.array([1,2,3,4,5,1,2,1,1,1])\n",
        "for i in range(1,6):\n",
        "  count_occ=np.count_nonzero(x==i)\n",
        "  occurence.append(count_occ)\n",
        "\n",
        "max_occ=max(occurence)\n",
        "max_index=occurence.index(max_occ)\n",
        "\n",
        "print(f\"{max_index+1} occures most frequently and {max_occ} times\")\n",
        "\n",
        "# ii.\n",
        "y=np.array([1,1,1,2,3,4,2,4,3,3]) #can use same upper code\n",
        "\n"
      ],
      "metadata": {
        "colab": {
          "base_uri": "https://localhost:8080/"
        },
        "id": "ZgLzR48YXKxE",
        "outputId": "d1e01b83-70d7-483e-e96e-cbbfa82685f8"
      },
      "execution_count": 3,
      "outputs": [
        {
          "output_type": "stream",
          "name": "stdout",
          "text": [
            "1 occures most frequently and 5 times\n"
          ]
        }
      ]
    },
    {
      "cell_type": "markdown",
      "source": [
        "Question 3:"
      ],
      "metadata": {
        "id": "CakwroKJcnNl"
      }
    },
    {
      "cell_type": "code",
      "source": [
        "import numpy as np\n",
        "arr=np.array([[10,20,30],[40,50,60],[70,80,90]])\n",
        "print(arr[0][1])\n",
        "print(arr[2][0])"
      ],
      "metadata": {
        "colab": {
          "base_uri": "https://localhost:8080/"
        },
        "id": "fRLniAlKct46",
        "outputId": "810f0a3e-6643-4ce7-c965-03d86f4d18b6"
      },
      "execution_count": 4,
      "outputs": [
        {
          "output_type": "stream",
          "name": "stdout",
          "text": [
            "20\n",
            "70\n"
          ]
        }
      ]
    },
    {
      "cell_type": "markdown",
      "source": [
        "Question 4:"
      ],
      "metadata": {
        "id": "YKdptcveeE0I"
      }
    },
    {
      "cell_type": "code",
      "source": [
        "import numpy as np\n",
        "shubham=np.linspace(10,100,25)\n",
        "print(shubham)\n",
        "print(shubham.ndim)\n",
        "print(shubham.shape)\n",
        "print(shubham.size)\n",
        "\n",
        "print(shubham.dtype)\n",
        "print(shubham.nbytes)\n",
        "print(shubham.reshape(5,5))"
      ],
      "metadata": {
        "colab": {
          "base_uri": "https://localhost:8080/"
        },
        "id": "qLTSMVGfeG-p",
        "outputId": "fd8e6a23-db9a-4536-ff74-9f0a0f76985d"
      },
      "execution_count": 6,
      "outputs": [
        {
          "output_type": "stream",
          "name": "stdout",
          "text": [
            "[ 10.    13.75  17.5   21.25  25.    28.75  32.5   36.25  40.    43.75\n",
            "  47.5   51.25  55.    58.75  62.5   66.25  70.    73.75  77.5   81.25\n",
            "  85.    88.75  92.5   96.25 100.  ]\n",
            "1\n",
            "(25,)\n",
            "25\n",
            "float64\n",
            "200\n",
            "[[ 10.    13.75  17.5   21.25  25.  ]\n",
            " [ 28.75  32.5   36.25  40.    43.75]\n",
            " [ 47.5   51.25  55.    58.75  62.5 ]\n",
            " [ 66.25  70.    73.75  77.5   81.25]\n",
            " [ 85.    88.75  92.5   96.25 100.  ]]\n"
          ]
        }
      ]
    },
    {
      "cell_type": "markdown",
      "source": [
        "Question 5:"
      ],
      "metadata": {
        "id": "QyD-HunPhgwD"
      }
    },
    {
      "cell_type": "code",
      "source": [
        "import numpy as np\n",
        "ucs420_shubham=np.array([[10,20,30,40],[50,60,70,80],[90,15,20,35]])\n",
        "print(ucs420_shubham.mean())\n",
        "\n",
        "col_median = np.median(ucs420_shubham, axis=0)\n",
        "row_median = np.median(ucs420_shubham, axis=1)\n",
        "print(\"Column-wise median:\", col_median)\n",
        "print(\"Row-wise median:\", row_median)\n",
        "\n",
        "print(np.max(ucs420_shubham))\n",
        "print(np.min(ucs420_shubham))\n",
        "\n",
        "reshaped_ucs420_shubham=ucs420_shubham.reshape(4,3)\n",
        "print(reshaped_ucs420_shubham.reshape(4,3))\n",
        "\n",
        "resize_ucs420_shubham=np.resize(reshaped_ucs420_shubham,(2,3))\n",
        "print(resize_ucs420_shubham)\n"
      ],
      "metadata": {
        "colab": {
          "base_uri": "https://localhost:8080/"
        },
        "id": "sI0JAL-DhiPz",
        "outputId": "c38b2e69-f5f7-4b05-a200-f47b7e905510"
      },
      "execution_count": 7,
      "outputs": [
        {
          "output_type": "stream",
          "name": "stdout",
          "text": [
            "43.333333333333336\n",
            "Column-wise median: [50. 20. 30. 40.]\n",
            "Row-wise median: [25.  65.  27.5]\n",
            "90\n",
            "10\n",
            "[[10 20 30]\n",
            " [40 50 60]\n",
            " [70 80 90]\n",
            " [15 20 35]]\n",
            "[[10 20 30]\n",
            " [40 50 60]]\n"
          ]
        }
      ]
    }
  ]
}